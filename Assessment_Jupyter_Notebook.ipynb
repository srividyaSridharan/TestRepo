{
 "cells": [
  {
   "cell_type": "markdown",
   "metadata": {},
   "source": [
    "Exercise-2:\n",
    "    The title of the Notebook is \"Assessment_Jupyter_Notebook.ipynb\""
   ]
  },
  {
   "cell_type": "markdown",
   "metadata": {},
   "source": [
    "Exercise-3: Introduction\n",
    "This notebook is about working in Jupyter which is a tool used in data Science"
   ]
  },
  {
   "cell_type": "markdown",
   "metadata": {},
   "source": [
    "Exercise 4 - Create a markdown cell to list data science languages\n",
    "Few Data Science languages are listed below:\n",
    "* Popular Languages:\n",
    "    1. Python\n",
    "    2. R \n",
    "    3. SQL \n",
    "* Traditional Languages:\n",
    "    1. Scala \n",
    "    2. Java \n",
    "    3. C++ \n",
    "    4. Julia\n",
    "* Other Common Languages:\n",
    "    - JavaScript\n",
    "    - PHP\n",
    "    - Go \n",
    "    - Ruby \n",
    "    - Visual Basic "
   ]
  },
  {
   "cell_type": "markdown",
   "metadata": {},
   "source": [
    "Exercise 5 - Create a markdown cell to list data science libraries.\n",
    "Commonly used Libraries in Data Science are:\n",
    "- Pandas\n",
    "- NumPy\n",
    "- TensorFlow\n",
    "- Plotly\n",
    "- SciPy\n",
    "- Keras\n",
    "- Seaborn"
   ]
  },
  {
   "cell_type": "markdown",
   "metadata": {},
   "source": [
    "Exercise 6 - Create a markdown cell with a table of Data Science tools\n",
    "|S.No|Data Science Tools|    Type Of Tool     |\n",
    "|----|------------------|---------------------|\n",
    "| 1. | MongoDB, MySQL   |Data Management Tool |\n",
    "| 2. |Jupyter, RStudio  |Operating System Tool|\n",
    "| 3. |SparkSQL, Kafka   |Data Integration Tool|\n",
    "| 4. |Git, Bitbucket    |Code Asset Tool      |"
   ]
  },
  {
   "cell_type": "markdown",
   "metadata": {},
   "source": [
    "Exercise 7 - Create a markdown cell introducing arithmetic expression examples.\n",
    "This is a Markdown cell for \" Introducing arithmetic expression examples\""
   ]
  },
  {
   "cell_type": "code",
   "execution_count": 1,
   "metadata": {
    "tags": []
   },
   "outputs": [
    {
     "data": {
      "text/plain": [
       "10"
      ]
     },
     "execution_count": 1,
     "metadata": {},
     "output_type": "execute_result"
    }
   ],
   "source": [
    "# Exercise 8 - Create a code cell to multiply and add numbers\n",
    "(2*3)+4"
   ]
  },
  {
   "cell_type": "code",
   "execution_count": 2,
   "metadata": {
    "tags": []
   },
   "outputs": [
    {
     "data": {
      "text/plain": [
       "4.0"
      ]
     },
     "execution_count": 2,
     "metadata": {},
     "output_type": "execute_result"
    }
   ],
   "source": [
    "# Exercise 9 - Create a code cell to convert minutes to hours\n",
    "# Below code will convert 240 minutes to hours by dividing the minutes by 60\n",
    "240 / 60"
   ]
  },
  {
   "cell_type": "markdown",
   "metadata": {},
   "source": [
    "Exercise 10 -Insert a markdown cell to list Objectives\n",
    "The objectives of this Assessment is to grade the understanding of below in Jupyter notebook of \n",
    "- Understanding of Data science tools, libraries and languages\n",
    "- Usage of Markdown Cells and Code Cells\n",
    "- To create Listing\n",
    "- To Create tables\n",
    "- To create arithmetic operations and run the code"
   ]
  },
  {
   "cell_type": "markdown",
   "metadata": {},
   "source": [
    "Exercise 11 - Create a markdown cell to indicate the Author’s name. \n",
    "Author: Srividya Sridharan"
   ]
  }
 ],
 "metadata": {
  "kernelspec": {
   "display_name": "Python",
   "language": "python",
   "name": "conda-env-python-py"
  },
  "language_info": {
   "codemirror_mode": {
    "name": "ipython",
    "version": 3
   },
   "file_extension": ".py",
   "mimetype": "text/x-python",
   "name": "python",
   "nbconvert_exporter": "python",
   "pygments_lexer": "ipython3",
   "version": "3.7.12"
  }
 },
 "nbformat": 4,
 "nbformat_minor": 4
}
